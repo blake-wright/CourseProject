{
 "cells": [
  {
   "cell_type": "code",
   "execution_count": 1,
   "metadata": {},
   "outputs": [],
   "source": [
    "from transformers import AutoTokenizer\n",
    "import pandas as pd\n",
    "from transformers import DistilBertModel\n",
    "from tensorflow.keras.preprocessing.sequence import pad_sequences\n",
    "import numpy as np\n",
    "import torch\n",
    "from sklearn.model_selection import train_test_split\n",
    "from sklearn.ensemble import RandomForestClassifier, ExtraTreesClassifier"
   ]
  },
  {
   "cell_type": "code",
   "execution_count": 2,
   "metadata": {},
   "outputs": [],
   "source": [
    "\n",
    "#read in train & test data\n",
    "trainData = pd.read_json('train.jsonl', lines = True)\n",
    "testData = pd.read_json('test.jsonl', lines = True)\n"
   ]
  },
  {
   "cell_type": "code",
   "execution_count": 3,
   "metadata": {},
   "outputs": [],
   "source": [
    "for i in range(len(trainData)):\n",
    "    if trainData['label'][i] == \"SARCASM\":\n",
    "        trainData['label'][i] = 1\n",
    "    else:\n",
    "        trainData['label'][i] = 0\n",
    "\n",
    "#trainData = trainData[:5000]\n",
    "#testData = testData[:1800]\n",
    "\n",
    "#setting modelId, tokenizer, and model\n",
    "modelId = \"distilbert-base-uncased\"\n",
    "tokenizer = AutoTokenizer.from_pretrained(modelId)\n",
    "model = DistilBertModel.from_pretrained(modelId)"
   ]
  },
  {
   "cell_type": "code",
   "execution_count": 4,
   "metadata": {},
   "outputs": [],
   "source": [
    "tokenized = trainData['response'].apply((lambda x: tokenizer.encode(x, add_special_tokens = True)))\n",
    "tokenized_2 = testData['response'].apply((lambda x: tokenizer.encode(x, add_special_tokens = True)))\n",
    "\n",
    "trainPad = pad_sequences(tokenized, maxlen = 100, padding='post')\n",
    "testPad = pad_sequences(tokenized_2, maxlen = 100, padding='post')\n",
    "\n",
    "trainMask = np.where(trainPad != 0,1,0)\n",
    "testMask = np.where(testPad != 0,1,0)\n",
    "\n",
    "#converting to int64\n",
    "trainInput = torch.tensor(trainPad).to(torch.int64)\n",
    "testInput = torch.tensor(testPad).to(torch.int64)\n",
    "\n",
    "#converting to tensor type\n",
    "trainMask = torch.tensor(trainMask)\n",
    "testMask = torch.tensor(testMask)\n",
    "\n",
    "with torch.no_grad():\n",
    "    output = model(trainInput, attention_mask = trainMask)\n",
    "with torch.no_grad():\n",
    "    outputTest = model(testInput, attention_mask = testMask)"
   ]
  },
  {
   "cell_type": "code",
   "execution_count": 5,
   "metadata": {},
   "outputs": [
    {
     "name": "stdout",
     "output_type": "stream",
     "text": [
      "(1800, 768)\n"
     ]
    }
   ],
   "source": [
    "trainFeats = output[0][:,0,:].numpy()\n",
    "testFeats = outputTest[0][:,0,:].numpy()\n",
    "print(testFeats.shape)"
   ]
  },
  {
   "cell_type": "code",
   "execution_count": 6,
   "metadata": {},
   "outputs": [
    {
     "name": "stdout",
     "output_type": "stream",
     "text": [
      "(5000,)\n"
     ]
    }
   ],
   "source": [
    "labels = trainData['label']\n",
    "print(labels.shape)"
   ]
  },
  {
   "cell_type": "code",
   "execution_count": 7,
   "metadata": {},
   "outputs": [
    {
     "name": "stdout",
     "output_type": "stream",
     "text": [
      "(3750, 768)\n",
      "(1250, 768)\n"
     ]
    }
   ],
   "source": [
    "#splitting training and testing data\n",
    "trainFeats, valFeats, trainLabels, testLabels = train_test_split(trainFeats, labels)\n",
    "print(trainFeats.shape)\n",
    "print(valFeats.shape)\n",
    "#object types are not allowed, converting to int types\n",
    "trainLabels = trainLabels.astype(str).astype(int)\n",
    "testLabels = testLabels.astype(str).astype(int)"
   ]
  },
  {
   "cell_type": "code",
   "execution_count": 15,
   "metadata": {},
   "outputs": [
    {
     "data": {
      "text/plain": [
       "0.7784"
      ]
     },
     "execution_count": 15,
     "metadata": {},
     "output_type": "execute_result"
    }
   ],
   "source": [
    "classifier = RandomForestClassifier(n_estimators=500, max_depth=None,\n",
    "                                         min_samples_split=8, random_state=2)\n",
    "classifier.fit(trainFeats, trainLabels)\n",
    "classifier.score(valFeats, testLabels)"
   ]
  },
  {
   "cell_type": "code",
   "execution_count": 16,
   "metadata": {},
   "outputs": [],
   "source": [
    "results = classifier.predict(testFeats)"
   ]
  },
  {
   "cell_type": "code",
   "execution_count": 12,
   "metadata": {},
   "outputs": [],
   "source": [
    "f = open(\"answer.txt\", \"w\")\n",
    "\n",
    "for i in range(len(results)):\n",
    "    id = str(testData['id'][i])\n",
    "    answer = str(results[i])\n",
    "    f.write(id)\n",
    "    f.write(',')\n",
    "    if answer == \"1\":\n",
    "        f.write(\"SARCASM\")\n",
    "    else:\n",
    "        f.write(\"NOT_SARCASM\")\n",
    "    f.write('\\n')"
   ]
  },
  {
   "cell_type": "code",
   "execution_count": null,
   "metadata": {},
   "outputs": [],
   "source": []
  }
 ],
 "metadata": {
  "kernelspec": {
   "display_name": "Python 3.7 (tensorflow)",
   "language": "python",
   "name": "tensorflow"
  },
  "language_info": {
   "codemirror_mode": {
    "name": "ipython",
    "version": 3
   },
   "file_extension": ".py",
   "mimetype": "text/x-python",
   "name": "python",
   "nbconvert_exporter": "python",
   "pygments_lexer": "ipython3",
   "version": "3.7.9"
  }
 },
 "nbformat": 4,
 "nbformat_minor": 4
}
